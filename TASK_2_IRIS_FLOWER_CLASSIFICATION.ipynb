{
  "nbformat": 4,
  "nbformat_minor": 0,
  "metadata": {
    "colab": {
      "private_outputs": true,
      "provenance": []
    },
    "kernelspec": {
      "name": "python3",
      "display_name": "Python 3"
    },
    "language_info": {
      "name": "python"
    }
  },
  "cells": [
    {
      "cell_type": "markdown",
      "source": [
        "### **CODSOFT INTERNSHIP**\n",
        "\n",
        "### **TASK-2: IRIS FLOWER CLASSIFICATION**\n",
        "\n",
        "### Author: Shaik Rafi\n",
        "\n",
        "### Domain : Data Science\n",
        "\n",
        "### Batch:jun-25th"
      ],
      "metadata": {
        "id": "QUHhIeVxbX4s"
      }
    },
    {
      "cell_type": "code",
      "source": [
        "#Import Libraraies for data processing and modelling\n",
        "\n",
        "import numpy as np\n",
        "import pandas as pd\n",
        "from sklearn.cluster import KMeans\n",
        "import matplotlib.pyplot as plt\n",
        "import seaborn as sns"
      ],
      "metadata": {
        "id": "hZvybZZMcQfo"
      },
      "execution_count": null,
      "outputs": []
    },
    {
      "cell_type": "code",
      "source": [
        "df = sns.load_dataset('iris')\n",
        "df.head()"
      ],
      "metadata": {
        "id": "xdCz9bUEdagC"
      },
      "execution_count": null,
      "outputs": []
    },
    {
      "cell_type": "code",
      "source": [
        "df['species'],Categories = pd.factorize(df['species'])\n",
        "df.head()"
      ],
      "metadata": {
        "id": "PPVCUsiVdxTC"
      },
      "execution_count": null,
      "outputs": []
    },
    {
      "cell_type": "code",
      "source": [
        "df.describe"
      ],
      "metadata": {
        "id": "0iMK1GiHeN2H"
      },
      "execution_count": null,
      "outputs": []
    },
    {
      "cell_type": "code",
      "source": [
        "df.isna().sum()"
      ],
      "metadata": {
        "id": "Fz3SORsaeXKM"
      },
      "execution_count": null,
      "outputs": []
    },
    {
      "cell_type": "code",
      "source": [
        "from mpl_toolkits.mplot3d import Axes3D\n",
        "fig = plt.figure()\n",
        "ax = fig.add_subplot(111,  projection='3d')\n",
        "ax.scatter(df.petal_length, df.petal_width, df.species)\n",
        "ax.set_xlabel('petal_Length')\n",
        "ax.set_ylabel('petal_widthCm')\n",
        "ax.set_zlabel('species')\n",
        "plt.title('3D Scatter  Plot  Example')\n",
        "plt.show()"
      ],
      "metadata": {
        "id": "aEwRUwvNed8D"
      },
      "execution_count": null,
      "outputs": []
    },
    {
      "cell_type": "code",
      "source": [
        "from mpl_toolkits.mplot3d import Axes3D\n",
        "fig = plt.figure()\n",
        "ax = fig.add_subplot(111,  projection='3d')\n",
        "ax.scatter(df.petal_length, df.petal_width, df.species)\n",
        "ax.set_xlabel('SepalLength')\n",
        "ax.set_ylabel('SepalwidthCm')\n",
        "ax.set_zlabel('species')\n",
        "plt.title('3D Scatter  Plot  Example')\n",
        "plt.show()"
      ],
      "metadata": {
        "id": "InDE1G26gYVE"
      },
      "execution_count": null,
      "outputs": []
    },
    {
      "cell_type": "code",
      "source": [
        "sns.scatterplot(data=df, x=\"sepal_length\",  y=\"sepal_width\",  hue=\"species\");"
      ],
      "metadata": {
        "id": "lNWpcIYFgzAr"
      },
      "execution_count": null,
      "outputs": []
    },
    {
      "cell_type": "code",
      "source": [
        "sns.scatterplot(data=df, x=\"petal_length\",  y=\"petal_width\",  hue=\"species\");"
      ],
      "metadata": {
        "id": "ruJyGYkmhSK9"
      },
      "execution_count": null,
      "outputs": []
    },
    {
      "cell_type": "code",
      "source": [
        "K_rng = range(1,10)\n",
        "sse=[]\n",
        "\n",
        "for k in K_rng:\n",
        "  km = KMeans(n_clusters=k)\n",
        "  km.fit(df[['petal_length',  'petal_width']])\n",
        "  sse.append(km.inertia_)\n"
      ],
      "metadata": {
        "id": "SN-p9hKuheVx"
      },
      "execution_count": null,
      "outputs": []
    },
    {
      "cell_type": "code",
      "source": [
        "sse"
      ],
      "metadata": {
        "id": "_rreoqgjilkA"
      },
      "execution_count": null,
      "outputs": []
    },
    {
      "cell_type": "code",
      "source": [
        "plt.xlabel('k_rng')\n",
        "plt.ylabel(\"Sum of Squared  errors\")"
      ],
      "metadata": {
        "id": "pGLyGWRDixNH"
      },
      "execution_count": null,
      "outputs": []
    },
    {
      "cell_type": "code",
      "source": [
        "km = KMeans(n_clusters=3, random_state=0,)\n",
        "y_predicted = km.fit_predict(df[['petal_length',  'petal_width']])\n",
        "y_predicted"
      ],
      "metadata": {
        "id": "69nF5BnNj8ws"
      },
      "execution_count": null,
      "outputs": []
    },
    {
      "cell_type": "code",
      "source": [
        "df['cluster']=y_predicted\n",
        "df.head(150)"
      ],
      "metadata": {
        "id": "Ki9R5mLpkmcA"
      },
      "execution_count": null,
      "outputs": []
    },
    {
      "cell_type": "code",
      "source": [
        "from sklearn.metrics import confusion_matrix\n",
        "cm = confusion_matrix(df.species, df.cluster)\n",
        "cm\n"
      ],
      "metadata": {
        "id": "zuU2gL8jk1h2"
      },
      "execution_count": null,
      "outputs": []
    },
    {
      "cell_type": "code",
      "source": [
        "true_labels = df.species\n",
        "predicted_labels = df.cluster\n",
        "\n",
        "cm = confusion_matrix(true_labels, predicted_labels)\n",
        "class_labels = ['Setosa',  ' Versicolor',  'Virginica']\n",
        "\n",
        "\n",
        "# plot confusion matrix\n",
        "plt.imshow(cm, interpolation= 'nearest',  cmap=plt.cm.Blues)\n",
        "plt.title('Confusion Matrix')\n",
        "plt.colorbar()\n",
        "tick_marks = np.arange(len(class_labels))\n",
        "plt.xticks(tick_marks, class_labels)\n",
        "plt.yticks(tick_marks, class_labels)\n",
        "\n",
        "# Fill matrix with values\n",
        "for i in range(len(class_labels)):\n",
        "  for j in range(len(class_labels)):\n",
        "      plt.text(j, i, str(cm[i][j]), ha='center', va='center', color='white')\n",
        "\n",
        "plt.xlabel('Predicted label')\n",
        "plt.ylabel('True label')\n",
        "plt.show()"
      ],
      "metadata": {
        "id": "rp2Z6o9aldWu"
      },
      "execution_count": null,
      "outputs": []
    },
    {
      "cell_type": "markdown",
      "source": [
        "TASK 2 COMPLETED"
      ],
      "metadata": {
        "id": "W7e7gQEgo8F_"
      }
    }
  ]
}